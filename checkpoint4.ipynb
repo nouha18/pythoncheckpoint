{
  "nbformat": 4,
  "nbformat_minor": 0,
  "metadata": {
    "colab": {
      "name": "checkpoint4.ipynb",
      "provenance": [],
      "collapsed_sections": [],
      "authorship_tag": "ABX9TyOw/hKoZazNKMOhPbU/V2V5",
      "include_colab_link": true
    },
    "kernelspec": {
      "name": "python3",
      "display_name": "Python 3"
    },
    "language_info": {
      "name": "python"
    }
  },
  "cells": [
    {
      "cell_type": "markdown",
      "metadata": {
        "id": "view-in-github",
        "colab_type": "text"
      },
      "source": [
        "<a href=\"https://colab.research.google.com/github/nouha18/pythoncheckpoint/blob/update/checkpoint4.ipynb\" target=\"_parent\"><img src=\"https://colab.research.google.com/assets/colab-badge.svg\" alt=\"Open In Colab\"/></a>"
      ]
    },
    {
      "cell_type": "code",
      "metadata": {
        "id": "TlLTgtoDjFXZ",
        "colab": {
          "base_uri": "https://localhost:8080/"
        },
        "outputId": "130dcda6-f4b7-46c0-a9e3-5012755e3794"
      },
      "source": [
        "###checkpoint4\n",
        "import pandas as pand\n",
        "### tester un fichier csv \n",
        "col_list = [\"PassengerId\",\"Survived\",\"Pclass\",\"Name\",\"Sex\",\"Age\",\"SibSp\",\"Parch\",\"Ticket\",\"Cabin\"]\n",
        "\n",
        "df = pand.read_csv(\"titanic.csv\")\n",
        "df.describe(percentiles = [.75, .8])\n",
        "df.columns"
      ],
      "execution_count": 70,
      "outputs": [
        {
          "output_type": "execute_result",
          "data": {
            "text/plain": [
              "Index(['PassengerId', 'Survived', 'Pclass', 'Name', 'Sex', 'Age', 'SibSp',\n",
              "       'Parch', 'Ticket', 'Fare', 'Cabin', 'Embarked'],\n",
              "      dtype='object')"
            ]
          },
          "metadata": {},
          "execution_count": 70
        }
      ]
    },
    {
      "cell_type": "code",
      "metadata": {
        "id": "5MsYEkmjgPoI"
      },
      "source": [
        ""
      ],
      "execution_count": null,
      "outputs": []
    },
    {
      "cell_type": "markdown",
      "metadata": {
        "id": "Ax1PPQ0DkO0R"
      },
      "source": [
        "Dans la partie **data-cleaning** ci-dessous nous allons faire la selection des valeurs NaN et les enlevées"
      ]
    },
    {
      "cell_type": "code",
      "metadata": {
        "id": "k23hpaWRkKUE",
        "colab": {
          "base_uri": "https://localhost:8080/"
        },
        "outputId": "fea83f5b-f068-423c-8fc0-81750ce2e9a8"
      },
      "source": [
        "###checkpoint 3\n",
        "import pandas as pand\n",
        "import random\n",
        "col_list = [\"PassengerId\",\"Survived\",\"Pclass\",\"Name\",\"Sex\",\"Age\",\"SibSp\",\"Parch\",\"Ticket\",\"Fare\",\"Cabin\"]\n",
        "df = pand.read_csv(\"titanic-passengers.csv\",sep=\";\")\n",
        "print('this is a sum of nan values of All columns',df.isnull().sum())\n",
        "##PassengerId      0\n",
        "##Survived         0\n",
        "##Pclass         891\n",
        "##Name           891\n",
        "##Sex            891\n",
        "##Age              0\n",
        "##SibSp          891\n",
        "##Parch          891\n",
        "##Ticket         891\n",
        "##Fare           891\n",
        "##Cabin\n",
        "\n",
        "df[\"Age\"] = df[\"Age\"].fillna(random.randint(15,70))\n",
        "\n",
        "##print(df[\"Survived\"])\n",
        "df[\"Survived\"].fillna(\"survived\",inplace=True)\n",
        "\n",
        "df.isnull().sum()\n",
        "df[\"Name\"].fillna(\"Name ,Mr. Xperson\",inplace=True)\n",
        "\n",
        "print(df[\"Pclass\"])\n",
        "df.isnull().sum()\n",
        "df[\"Pclass\"].fillna(\"underclass\",inplace=True)\n",
        "\n",
        "print(df[\"SibSp\"])\n",
        "df.isnull()\n",
        "df[\"SibSp\"].fillna(\"Sibling\"+str(random.randint(1,1461)),inplace=True)\n",
        "\n",
        "print('Parch columns ******') \n",
        "df[\"Parch\"].isnull().sum()\n",
        "print(df[\"Parch\"].fillna(\"Parent\"+str(random.randint(1,1461)),inplace=True))\n",
        "print('genre columns ******')\n",
        "df[\"Sex\"].isnull().sum()\n",
        "print(df[\"Sex\"].fillna(\"female\",inplace=True))\n",
        "\n",
        "print('Ticket columns ******')\n",
        "##on exploite les valeurs de la colonne Ticket pour mieux choisir les valeurs a modifiées\n",
        "df[\"Ticket\"]\n",
        "df[\"Ticket\"].isnull().sum()\n",
        "df[\"Ticket\"].fillna(\"Ticket\"+str(random.randint(1,1461)),inplace=True)\n",
        "df[\"Fare\"]\n",
        "##df[\"Fare\"].fillna(df[\"Fare\"].median(),inplace=True)\n",
        "df[\"Fare\"]=df[\"Fare\"].fillna(random.randint(1,19))\n",
        "print('Cabin columns ******'+df[\"Cabin\"])\n",
        "print('Embarked columns ******')\n",
        "df[\"Embarked\"]=df[\"Embarked\"].fillna(df[\"Embarked\"].value_counts(ascending=True))\n",
        "df[\"Cabin\"].fillna(\"VIP\",inplace=True)\n",
        "df[\"Cabin\"].isnull().sum()\n",
        "\n",
        "print(\"nombre des valeurs null\",df.isnull().sum())\n",
        "final_df = df\n",
        "##export as dataframe with \",\" separator\n",
        "file = final_df.to_csv('cleandata.csv')\n",
        "\n",
        "\n",
        "\n",
        "\n",
        "\n"
      ],
      "execution_count": null,
      "outputs": [
        {
          "output_type": "stream",
          "name": "stdout",
          "text": [
            "0      2\n",
            "1      3\n",
            "2      3\n",
            "3      3\n",
            "4      1\n",
            "      ..\n",
            "886    2\n",
            "887    3\n",
            "888    3\n",
            "889    3\n",
            "890    2\n",
            "Name: Pclass, Length: 891, dtype: int64\n",
            "0      0\n",
            "1      0\n",
            "2      0\n",
            "3      0\n",
            "4      1\n",
            "      ..\n",
            "886    1\n",
            "887    0\n",
            "888    0\n",
            "889    0\n",
            "890    0\n",
            "Name: SibSp, Length: 891, dtype: int64\n",
            "Parch columns ******\n",
            "None\n",
            "genre columns ******\n",
            "None\n",
            "Ticket columns ******\n",
            "0                            NaN\n",
            "1      Cabin columns ******F G73\n",
            "2                            NaN\n",
            "3                            NaN\n",
            "4        Cabin columns ******B71\n",
            "                 ...            \n",
            "886                          NaN\n",
            "887                          NaN\n",
            "888                          NaN\n",
            "889                          NaN\n",
            "890                          NaN\n",
            "Name: Cabin, Length: 891, dtype: object\n",
            "Embarked columns ******\n",
            "nombre des valeurs null PassengerId    0\n",
            "Survived       0\n",
            "Pclass         0\n",
            "Name           0\n",
            "Sex            0\n",
            "Age            0\n",
            "SibSp          0\n",
            "Parch          0\n",
            "Ticket         0\n",
            "Fare           0\n",
            "Cabin          0\n",
            "Embarked       2\n",
            "dtype: int64\n"
          ]
        }
      ]
    },
    {
      "cell_type": "code",
      "metadata": {
        "id": "HCeq3SqWf9eL",
        "colab": {
          "base_uri": "https://localhost:8080/"
        },
        "outputId": "9584c9c3-3990-4ad5-953a-f87f32627e1d"
      },
      "source": [
        "\n",
        "df.isnull().sum()"
      ],
      "execution_count": null,
      "outputs": [
        {
          "output_type": "execute_result",
          "data": {
            "text/plain": [
              "PassengerId    0\n",
              "Survived       0\n",
              "Pclass         0\n",
              "Name           0\n",
              "Sex            0\n",
              "Age            0\n",
              "SibSp          0\n",
              "Parch          0\n",
              "Ticket         0\n",
              "Fare           0\n",
              "Cabin          0\n",
              "Embarked       2\n",
              "dtype: int64"
            ]
          },
          "metadata": {},
          "execution_count": 144
        }
      ]
    },
    {
      "cell_type": "markdown",
      "metadata": {
        "id": "0t9aciRckr-f"
      },
      "source": [
        "Cette partie, disons le **data-visualisation**, concerne \n",
        "l'affichage des données selon des axes déterminés."
      ]
    },
    {
      "cell_type": "code",
      "metadata": {
        "colab": {
          "base_uri": "https://localhost:8080/",
          "height": 550
        },
        "id": "QIr-mN7TkjTN",
        "outputId": "8de4bc85-e506-4798-f72e-c4f5305c2983"
      },
      "source": [
        "import pandas as pand\n",
        "import numpy as np\n",
        "import matplotlib.pyplot as plt\n",
        "col_list = [\"PassengerId\",\"Survived\",\"Pclass\",\"Name\",\"Sex\",\"Age\",\"SibSp\",\"Parch\",\"Ticket\",\"Fare\",\"Cabin\"]\n",
        "dfile = pand.read_csv(\"titanic.csv\")\n",
        "print(\"final preprocessing result \")\n",
        "print(dfile.describe(include = 'all'))\n",
        "\n",
        "\n",
        "## Data-visualisation \n",
        "\n",
        "plt.xlabel(\"Age\")\n",
        "plt.ylabel(\"Survived\")\n",
        "plt.title(\"plot Survived people by Name\")\n",
        "###################\n",
        "arr1=np.array(dfile[\"Age\"].head(70))\n",
        "arr2=np.array(dfile[\"Sex\"].head(70))\n",
        "## Data-visualisation \n",
        "plt.xlabel(\"Age\") \n",
        "plt.ylabel(\"Sex\")\n",
        "plt.title(\"Visualisation of the categories of survived \")\n",
        "\n",
        "##plt.plot(array1,array2)\n",
        "plt.bar(arr2,arr1,color=\"#69b3a2\")\n",
        "plt.show()\n"
      ],
      "execution_count": null,
      "outputs": [
        {
          "output_type": "stream",
          "name": "stdout",
          "text": [
            "final preprocessing result \n",
            "        PassengerId    Survived      Pclass  ...        Fare        Cabin  Embarked\n",
            "count    891.000000  891.000000  891.000000  ...  891.000000          204       889\n",
            "unique          NaN         NaN         NaN  ...         NaN          147         3\n",
            "top             NaN         NaN         NaN  ...         NaN  C23 C25 C27         S\n",
            "freq            NaN         NaN         NaN  ...         NaN            4       644\n",
            "mean     446.000000    0.383838    2.308642  ...   32.204208          NaN       NaN\n",
            "std      257.353842    0.486592    0.836071  ...   49.693429          NaN       NaN\n",
            "min        1.000000    0.000000    1.000000  ...    0.000000          NaN       NaN\n",
            "25%      223.500000    0.000000    2.000000  ...    7.910400          NaN       NaN\n",
            "50%      446.000000    0.000000    3.000000  ...   14.454200          NaN       NaN\n",
            "75%      668.500000    1.000000    3.000000  ...   31.000000          NaN       NaN\n",
            "max      891.000000    1.000000    3.000000  ...  512.329200          NaN       NaN\n",
            "\n",
            "[11 rows x 12 columns]\n"
          ]
        },
        {
          "output_type": "display_data",
          "data": {
            "image/png": "[encoded data removed]",
            "text/plain": [
              "<Figure size 432x288 with 1 Axes>"
            ]
          },
          "metadata": {
            "needs_background": "light"
          }
        }
      ]
    },
    {
      "cell_type": "code",
      "metadata": {
        "colab": {
          "base_uri": "https://localhost:8080/",
          "height": 363
        },
        "id": "HW5SPsdNlB2s",
        "outputId": "244e72e0-e82a-4fbc-ea7f-92a17eee9377"
      },
      "source": [
        "import pandas as pand\n",
        "import numpy as np\n",
        "import matplotlib.pyplot as plt\n",
        "col_list = [\"PassengerId\",\"Survived\",\"Pclass\",\"Name\",\"Sex\",\"Age\",\"SibSp\",\"Parch\",\"Ticket\",\"Fare\",\"Cabin\"]\n",
        "dfile = pand.read_csv(\"titanic.csv\")\n",
        "print(\"final preprocessing result \")\n",
        "print(dfile.columns)\n",
        "\n",
        "array1=np.array(dfile[\"Name\"])\n",
        "array2=np.array(dfile[\"Cabin\"])\n",
        "\n",
        "## Data-visualisation \n",
        "\n",
        "plt.xlabel(\"Pclass\")\n",
        "plt.ylabel(\"Fare\")\n",
        "plt.title(\"plot people by Name in Cabin\")\n",
        "###################\n",
        "arr1=np.array(dfile[\"Pclass\"].head(1000))\n",
        "arr2=np.array(dfile[\"Fare\"].head(1000))\n",
        "\n",
        "\n",
        "##plt.plot(array1,array2)\n",
        "plt.bar(arr2,arr1,color = \"blue\")\n",
        "plt.show()"
      ],
      "execution_count": null,
      "outputs": [
        {
          "output_type": "stream",
          "name": "stdout",
          "text": [
            "final preprocessing result \n",
            "Index(['PassengerId', 'Survived', 'Pclass', 'Name', 'Sex', 'Age', 'SibSp',\n",
            "       'Parch', 'Ticket', 'Fare', 'Cabin', 'Embarked'],\n",
            "      dtype='object')\n"
          ]
        },
        {
          "output_type": "display_data",
          "data": {
            "image/png": "[encoded data removed]",
            "text/plain": [
              "<Figure size 432x288 with 1 Axes>"
            ]
          },
          "metadata": {
            "needs_background": "light"
          }
        }
      ]
    },
    {
      "cell_type": "markdown",
      "metadata": {
        "id": "fTUfpM7vtyxR"
      },
      "source": [
        "Use the groupby function combined with the mean() to view the relation between Pclass and survived "
      ]
    },
    {
      "cell_type": "code",
      "metadata": {
        "colab": {
          "base_uri": "https://localhost:8080/",
          "height": 931
        },
        "id": "s43-ypNwt1YN",
        "outputId": "c9232dbf-8ab6-4be2-8bb0-efaaa3c52505"
      },
      "source": [
        "import pandas as pand\n",
        "import numpy as np\n",
        "import matplotlib.pyplot as plt\n",
        "col_list = [\"PassengerId\",\"Survived\",\"Pclass\",\"Name\",\"Sex\",\"Age\",\"SibSp\",\"Parch\",\"Ticket\",\"Fare\",\"Cabin\"]\n",
        "dfile = pand.read_csv(\"titanic.csv\")\n",
        "print(\"final preprocessing result \")\n",
        "print(dfile.columns)\n",
        "##print(type(df.groupby('Name').mean()))\n",
        "dfile.groupby('Name').mean()\n",
        "dfile.groupby('Sex').sum().reset_index().head(1000)\n",
        "dfile.groupby('PassengerId').sum().plot(kind='bar');\n",
        "dfile.groupby(['Pclass', 'Survived'] )['Survived'].count().plot.bar(figsize=(8, 6));\n",
        "print(\"Visualisation d'une autre façon\")\n",
        "plt.figure(figsize = (15, 6))\n",
        "#plt.axis([1,3,0,1])\n",
        "\n",
        "sns.violinplot(data = dfile, x = 'Name', y = 'Survived')\n",
        "dfile[['Pclass', 'Survived']].groupby(['Pclass'], as_index = False).mean().sort_values('Survived', ascending = False)"
      ],
      "execution_count": 73,
      "outputs": [
        {
          "output_type": "stream",
          "name": "stdout",
          "text": [
            "final preprocessing result \n",
            "Index(['PassengerId', 'Survived', 'Pclass', 'Name', 'Sex', 'Age', 'SibSp',\n",
            "       'Parch', 'Ticket', 'Fare', 'Cabin', 'Embarked'],\n",
            "      dtype='object')\n",
            "Visualisation d'une autre façon\n"
          ]
        },
        {
          "output_type": "execute_result",
          "data": {
            "text/html": [
              "<div>\n",
              "<style scoped>\n",
              "    .dataframe tbody tr th:only-of-type {\n",
              "        vertical-align: middle;\n",
              "    }\n",
              "\n",
              "    .dataframe tbody tr th {\n",
              "        vertical-align: top;\n",
              "    }\n",
              "\n",
              "    .dataframe thead th {\n",
              "        text-align: right;\n",
              "    }\n",
              "</style>\n",
              "<table border=\"1\" class=\"dataframe\">\n",
              "  <thead>\n",
              "    <tr style=\"text-align: right;\">\n",
              "      <th></th>\n",
              "      <th>Pclass</th>\n",
              "      <th>Survived</th>\n",
              "    </tr>\n",
              "  </thead>\n",
              "  <tbody>\n",
              "    <tr>\n",
              "      <th>0</th>\n",
              "      <td>1</td>\n",
              "      <td>0.629630</td>\n",
              "    </tr>\n",
              "    <tr>\n",
              "      <th>1</th>\n",
              "      <td>2</td>\n",
              "      <td>0.472826</td>\n",
              "    </tr>\n",
              "    <tr>\n",
              "      <th>2</th>\n",
              "      <td>3</td>\n",
              "      <td>0.242363</td>\n",
              "    </tr>\n",
              "  </tbody>\n",
              "</table>\n",
              "</div>"
            ],
            "text/plain": [
              "   Pclass  Survived\n",
              "0       1  0.629630\n",
              "1       2  0.472826\n",
              "2       3  0.242363"
            ]
          },
          "metadata": {},
          "execution_count": 73
        },
        {
          "output_type": "display_data",
          "data": {
            "image/png": "[encoded data removed]",
            "text/plain": [
              "<Figure size 576x432 with 1 Axes>"
            ]
          },
          "metadata": {
            "needs_background": "light"
          }
        },
        {
          "output_type": "display_data",
          "data": {
            "image/png": "[encoded data removed]",
            "text/plain": [
              "<Figure size 1080x432 with 1 Axes>"
            ]
          },
          "metadata": {
            "needs_background": "light"
          }
        }
      ]
    },
    {
      "cell_type": "code",
      "metadata": {
        "colab": {
          "base_uri": "https://localhost:8080/",
          "height": 574
        },
        "id": "AyoIFE4LxRHM",
        "outputId": "23d173bd-d99c-4857-e737-c459fea5596c"
      },
      "source": [
        "\n",
        "import seaborn as sns\n",
        "import pandas as pand\n",
        "import numpy as np\n",
        "import matplotlib.pyplot as plt\n",
        "dfile = pand.read_csv(\"titanic.csv\")\n",
        "print(\"Correlation result \")\n",
        "###########################\n",
        "def plot_correlation_map( dfile ):\n",
        "\n",
        "        corr = dfile.corr()\n",
        "        sns.set_theme(style=\"white\")\n",
        "        # Set up the matplotlib figure\n",
        "        s , ax = plt.subplots( figsize =( 11 , 9 ) )\n",
        "        cmap = sns.diverging_palette( 220 , 10 , as_cmap = True )\n",
        "\n",
        "        s = sns.heatmap(\n",
        "\n",
        "        corr, \n",
        "\n",
        "        cmap = cmap,\n",
        "\n",
        "        square=True, \n",
        "\n",
        "        cbar_kws={ 'shrink' : .9 }, \n",
        "\n",
        "        ax=ax, \n",
        "\n",
        "        annot = True, \n",
        "\n",
        "        annot_kws = { 'fontsize' : 12 }\n",
        "\n",
        "        )\n",
        "        plt.show()\n",
        "        \n",
        "        \n",
        "print(plot_correlation_map( dfile ))\n",
        "\n",
        "            "
      ],
      "execution_count": null,
      "outputs": [
        {
          "output_type": "stream",
          "name": "stdout",
          "text": [
            "Correlation result \n"
          ]
        },
        {
          "output_type": "display_data",
          "data": {
            "image/png": "[encoded data removed]",
            "text/plain": [
              "<Figure size 792x648 with 2 Axes>"
            ]
          },
          "metadata": {}
        },
        {
          "output_type": "stream",
          "name": "stdout",
          "text": [
            "None\n"
          ]
        }
      ]
    },
    {
      "cell_type": "markdown",
      "metadata": {
        "id": "_hWVw4Gvxcua"
      },
      "source": [
        "**Description of Plot:** \n",
        "Dans ce diagramme on remarque que la variation des couleurs varie du rose vif vers le bleu intense du plus intense vers le moins intense.\n",
        "plus la relation est intense entre les deux paramètres et plus la couleurs tend vers le rose donc vers la valeur=1\n",
        "si non elle tend vers le beu de valeur null ou négative."
      ]
    },
    {
      "cell_type": "markdown",
      "metadata": {
        "id": "ObP5RVB7FRa6"
      },
      "source": [
        "**More :**\n",
        "Ticket feature may be dropped from our analysis as it contains high ratio of duplicates (22%) and there may not be a correlation between Ticket and survival.\n",
        "Cabin feature may be dropped as it is highly incomplete or contains many null values both in training and test dataset.\n",
        "PassengerId may be dropped from training dataset as it does not contribute to survival.\n",
        "Pclass We observe significant correlation (>0.5) among Pclass=1 and Survived.\n",
        "Sex We confirm the observation during problem definition that Sex=female had very high survival rate at 74%.\n",
        "Name feature is relatively non-standard, may not contribute directly to survival, so maybe dropped. We may want to engineer the Name feature to extract Title as a new feature.\n",
        "We may want to complete Age and the Embarked feature as they are correlated to survival or another important feature\n",
        "We may want to create new feature for Age bands. This turns a continous numerical feature into an ordinal categorical feature.\n",
        "We may want to create a new feature called Family based on Parch and SibSp to get total count of family members on board.\n",
        "We may also want to create a Fare range feature if it helps our analysis"
      ]
    },
    {
      "cell_type": "code",
      "metadata": {
        "colab": {
          "base_uri": "https://localhost:8080/"
        },
        "id": "dOVinmCVyCTd",
        "outputId": "c6f3728e-e719-4cf4-c85b-e1ee69324412"
      },
      "source": [
        "###As a final step try to drop the useless columns such as Names\n",
        "\n",
        "import seaborn as sns\n",
        "import pandas as pand\n",
        "import numpy as np\n",
        "import matplotlib.pyplot as plt\n",
        "dfile = pand.read_csv(\"titanic.csv\")\n",
        "print(\"Drop column Name result \")\n",
        "###########################################\n",
        "print(dfile.shape)\n",
        "\n",
        "# Drop the 'county_name' and 'state' columns\n",
        "dfile.drop(['Name'], axis='columns', inplace=True)\n",
        "file = dfile.to_csv('finaldata.csv')\n",
        "df = pand.read_csv(\"finaldata.csv\")\n",
        "print(df.columns)"
      ],
      "execution_count": null,
      "outputs": [
        {
          "output_type": "stream",
          "name": "stdout",
          "text": [
            "Drop column Name result \n",
            "(891, 12)\n",
            "Index(['Unnamed: 0', 'PassengerId', 'Survived', 'Pclass', 'Sex', 'Age',\n",
            "       'SibSp', 'Parch', 'Ticket', 'Fare', 'Cabin', 'Embarked'],\n",
            "      dtype='object')\n"
          ]
        }
      ]
    },
    {
      "cell_type": "code",
      "metadata": {
        "colab": {
          "base_uri": "https://localhost:8080/",
          "height": 279
        },
        "id": "3gniga6SB9Ld",
        "outputId": "74d4bb33-d58b-4029-f6f6-167964b3de3d"
      },
      "source": [
        "###checkpoint 3\n",
        "import pandas as pand\n",
        "import re\n",
        "Title_Dic = {\n",
        "    \"Capt\":       \"Officer\",\n",
        "    \"Col\":        \"Officer\",\n",
        "    \"Major\":      \"Officer\",\n",
        "    \"Dr\":         \"Officer\",\n",
        "    \"Rev\":        \"Officer\",\n",
        "    \"Jonkheer\":   \"Royalty\",\n",
        "    \"Don\":        \"Royalty\",\n",
        "    \"Sir\" :       \"Royalty\",\n",
        "    \" Lady\" :      \"Royalty\",\n",
        "    \"the Countess\" : \"Royalty\",\n",
        "    \"Dona\" :       \"Royalty\",\n",
        "    \"Mme\" :        \"Miss\",\n",
        "    \"Mlle\" :       \"Miss\",\n",
        "    \"Miss\" :      \"Miss\",\n",
        "    \"Ms\" :         \"Mrs\",\n",
        "    \"Mr\"  :        \"Mrs\",\n",
        "    \"Mrs\" :       \"Mrs\",\n",
        "     \"Master\" :    \"Master\"\n",
        "    }\n",
        "### extract title from Name column\n",
        "df = pand.read_csv(\"titanic.csv\")\n",
        "sns.violinplot(data = dfile, x = 'Name', y = 'Survived')\n",
        "try:  \n",
        "    for i in df.index:\n",
        "        substring =  df[\"Name\"][i][ df[\"Name\"][i].index(\",\")+1: df[\"Name\"][i].index(\".\")].split(' ')\n",
        "        ##pand.crosstab(substring, df['Sex'])\n",
        "        df[['Name', 'Survived', 'Sex']].groupby(['Name'], as_index = False).mode().sort_values(by = 'Survived', ascending = False )\n",
        "\n",
        "        for key in Title_Dic:\n",
        "            \n",
        "            if (key == substring[1]):\n",
        "                x = df[\"Name\"][i].replace(substring[1],Title_Dic[key])\n",
        "                ##print(df[\"Name\"][i].replace(substring[1],Title_Dic[key]))\n",
        "         \n",
        "except AttributeError:\n",
        "    pass\n",
        "\n",
        "\n"
      ],
      "execution_count": 74,
      "outputs": [
        {
          "output_type": "display_data",
          "data": {
            "image/png": "[encoded data removed]",
            "text/plain": [
              "<Figure size 432x288 with 1 Axes>"
            ]
          },
          "metadata": {
            "needs_background": "light"
          }
        }
      ]
    },
    {
      "cell_type": "code",
      "metadata": {
        "colab": {
          "base_uri": "https://localhost:8080/",
          "height": 724
        },
        "id": "Pb6H1QbXtrjx",
        "outputId": "493570dd-cf04-4252-c964-10ac6e13f5cc"
      },
      "source": [
        "###Create new column Title\n",
        "import seaborn as sns\n",
        "import pandas as pand\n",
        "import numpy as np\n",
        "import matplotlib.pyplot as plt\n",
        "df = pand.read_csv(\"titanic.csv\")\n",
        "print(\"Create column Title result \")\n",
        "\n",
        "try:  \n",
        "    Title = np.array([df[\"Name\"][i][ df[\"Name\"][i].index(\",\")+2: df[\"Name\"][i].index(\".\")].split(' ') for i in df.index])\n",
        "       ##for dataset in df: => c'est une autre façon de faire l'extraction de Regex\n",
        "       ## dataset['Title'] = dataset.Name.str.extract(' ([A-Za-z]+)\\.', expand = False)\n",
        "       ##pand.crosstab(df['Title'], df['Sex'])\n",
        "    for i in range(len(df)):\n",
        "        df['Title']=Title.tolist()\n",
        "        dfnew= df.to_csv('new.csv')\n",
        "\n",
        "except AttributeError:\n",
        "    pass\n",
        "dfs = pand.read_csv(\"new.csv\")    \n",
        "sns.violinplot(data = dfs.head(100), x = 'Title', y = 'Survived')\n",
        "print(df[['SibSp', 'Survived']].groupby(['SibSp']).mean())\n",
        "print('\\n\\n')\n",
        "print(df[['Parch', 'Survived']].groupby(['Parch']).mean())\n",
        "print(df.shape)"
      ],
      "execution_count": 79,
      "outputs": [
        {
          "output_type": "stream",
          "name": "stdout",
          "text": [
            "Create column Title result \n"
          ]
        },
        {
          "output_type": "stream",
          "name": "stderr",
          "text": [
            "/usr/local/lib/python3.7/dist-packages/ipykernel_launcher.py:10: VisibleDeprecationWarning: Creating an ndarray from ragged nested sequences (which is a list-or-tuple of lists-or-tuples-or ndarrays with different lengths or shapes) is deprecated. If you meant to do this, you must specify 'dtype=object' when creating the ndarray\n",
            "  # Remove the CWD from sys.path while we load stuff.\n"
          ]
        },
        {
          "output_type": "stream",
          "name": "stdout",
          "text": [
            "       Survived\n",
            "SibSp          \n",
            "0      0.345395\n",
            "1      0.535885\n",
            "2      0.464286\n",
            "3      0.250000\n",
            "4      0.166667\n",
            "5      0.000000\n",
            "8      0.000000\n",
            "\n",
            "\n",
            "\n",
            "       Survived\n",
            "Parch          \n",
            "0      0.343658\n",
            "1      0.550847\n",
            "2      0.500000\n",
            "3      0.600000\n",
            "4      0.000000\n",
            "5      0.200000\n",
            "6      0.000000\n",
            "(891, 13)\n"
          ]
        },
        {
          "output_type": "display_data",
          "data": {
            "image/png": "[encoded data removed]",
            "text/plain": [
              "<Figure size 432x288 with 1 Axes>"
            ]
          },
          "metadata": {
            "needs_background": "light"
          }
        }
      ]
    }
  ]
}