{
  "nbformat": 4,
  "nbformat_minor": 0,
  "metadata": {
    "colab": {
      "name": "KNN-pythonALgorithm-IA-v1.ipynb",
      "provenance": [],
      "collapsed_sections": [],
      "mount_file_id": "1ZCzeIzKT1GrBsS-1G95KAhaeK8aFhd0o",
      "authorship_tag": "ABX9TyPzdm7f5/Aq8DoyNaUt5Eza",
      "include_colab_link": true
    },
    "kernelspec": {
      "name": "python3",
      "display_name": "Python 3"
    },
    "language_info": {
      "name": "python"
    }
  },
  "cells": [
    {
      "cell_type": "markdown",
      "metadata": {
        "id": "view-in-github",
        "colab_type": "text"
      },
      "source": [
        "<a href=\"https://colab.research.google.com/github/nouha18/pythoncheckpoint/blob/update/KNN_pythonALgorithm_IA_v1.ipynb\" target=\"_parent\"><img src=\"https://colab.research.google.com/assets/colab-badge.svg\" alt=\"Open In Colab\"/></a>"
      ]
    },
    {
      "cell_type": "markdown",
      "metadata": {
        "id": "g-0kiyKPaixk"
      },
      "source": [
        "# KNN Algorithm"
      ]
    },
    {
      "cell_type": "code",
      "metadata": {
        "id": "BRlvpJ17UVWq"
      },
      "source": [
        "import pandas as pand\n",
        "dataset = pand.read_csv('./drive/MyDrive/set.data')\n"
      ],
      "execution_count": 2,
      "outputs": []
    },
    {
      "cell_type": "code",
      "metadata": {
        "colab": {
          "base_uri": "https://localhost:8080/",
          "height": 424
        },
        "id": "eY8YxQRgcq0P",
        "outputId": "910d5eff-345e-4794-89c0-d94acd116981"
      },
      "source": [
        "dataset"
      ],
      "execution_count": 3,
      "outputs": [
        {
          "output_type": "execute_result",
          "data": {
            "text/html": [
              "<div>\n",
              "<style scoped>\n",
              "    .dataframe tbody tr th:only-of-type {\n",
              "        vertical-align: middle;\n",
              "    }\n",
              "\n",
              "    .dataframe tbody tr th {\n",
              "        vertical-align: top;\n",
              "    }\n",
              "\n",
              "    .dataframe thead th {\n",
              "        text-align: right;\n",
              "    }\n",
              "</style>\n",
              "<table border=\"1\" class=\"dataframe\">\n",
              "  <thead>\n",
              "    <tr style=\"text-align: right;\">\n",
              "      <th></th>\n",
              "      <th>sepal.length</th>\n",
              "      <th>sepal.width</th>\n",
              "      <th>petal.length</th>\n",
              "      <th>petal.width</th>\n",
              "      <th>variety</th>\n",
              "    </tr>\n",
              "  </thead>\n",
              "  <tbody>\n",
              "    <tr>\n",
              "      <th>0</th>\n",
              "      <td>5.1</td>\n",
              "      <td>3.5</td>\n",
              "      <td>1.4</td>\n",
              "      <td>0.2</td>\n",
              "      <td>Iris-setosa</td>\n",
              "    </tr>\n",
              "    <tr>\n",
              "      <th>1</th>\n",
              "      <td>4.9</td>\n",
              "      <td>3.0</td>\n",
              "      <td>1.4</td>\n",
              "      <td>0.2</td>\n",
              "      <td>Iris-setosa</td>\n",
              "    </tr>\n",
              "    <tr>\n",
              "      <th>2</th>\n",
              "      <td>4.7</td>\n",
              "      <td>3.2</td>\n",
              "      <td>1.3</td>\n",
              "      <td>0.2</td>\n",
              "      <td>Iris-setosa</td>\n",
              "    </tr>\n",
              "    <tr>\n",
              "      <th>3</th>\n",
              "      <td>4.6</td>\n",
              "      <td>3.1</td>\n",
              "      <td>1.5</td>\n",
              "      <td>0.2</td>\n",
              "      <td>Iris-setosa</td>\n",
              "    </tr>\n",
              "    <tr>\n",
              "      <th>4</th>\n",
              "      <td>5.0</td>\n",
              "      <td>3.6</td>\n",
              "      <td>1.4</td>\n",
              "      <td>0.2</td>\n",
              "      <td>Iris-setosa</td>\n",
              "    </tr>\n",
              "    <tr>\n",
              "      <th>...</th>\n",
              "      <td>...</td>\n",
              "      <td>...</td>\n",
              "      <td>...</td>\n",
              "      <td>...</td>\n",
              "      <td>...</td>\n",
              "    </tr>\n",
              "    <tr>\n",
              "      <th>145</th>\n",
              "      <td>6.7</td>\n",
              "      <td>3.0</td>\n",
              "      <td>5.2</td>\n",
              "      <td>2.3</td>\n",
              "      <td>Iris-virginica</td>\n",
              "    </tr>\n",
              "    <tr>\n",
              "      <th>146</th>\n",
              "      <td>6.3</td>\n",
              "      <td>2.5</td>\n",
              "      <td>5.0</td>\n",
              "      <td>1.9</td>\n",
              "      <td>Iris-virginica</td>\n",
              "    </tr>\n",
              "    <tr>\n",
              "      <th>147</th>\n",
              "      <td>6.5</td>\n",
              "      <td>3.0</td>\n",
              "      <td>5.2</td>\n",
              "      <td>2.0</td>\n",
              "      <td>Iris-virginica</td>\n",
              "    </tr>\n",
              "    <tr>\n",
              "      <th>148</th>\n",
              "      <td>6.2</td>\n",
              "      <td>3.4</td>\n",
              "      <td>5.4</td>\n",
              "      <td>2.3</td>\n",
              "      <td>Iris-virginica</td>\n",
              "    </tr>\n",
              "    <tr>\n",
              "      <th>149</th>\n",
              "      <td>5.9</td>\n",
              "      <td>3.0</td>\n",
              "      <td>5.1</td>\n",
              "      <td>1.8</td>\n",
              "      <td>Iris-virginica</td>\n",
              "    </tr>\n",
              "  </tbody>\n",
              "</table>\n",
              "<p>150 rows × 5 columns</p>\n",
              "</div>"
            ],
            "text/plain": [
              "     sepal.length  sepal.width  petal.length  petal.width         variety\n",
              "0             5.1          3.5           1.4          0.2     Iris-setosa\n",
              "1             4.9          3.0           1.4          0.2     Iris-setosa\n",
              "2             4.7          3.2           1.3          0.2     Iris-setosa\n",
              "3             4.6          3.1           1.5          0.2     Iris-setosa\n",
              "4             5.0          3.6           1.4          0.2     Iris-setosa\n",
              "..            ...          ...           ...          ...             ...\n",
              "145           6.7          3.0           5.2          2.3  Iris-virginica\n",
              "146           6.3          2.5           5.0          1.9  Iris-virginica\n",
              "147           6.5          3.0           5.2          2.0  Iris-virginica\n",
              "148           6.2          3.4           5.4          2.3  Iris-virginica\n",
              "149           5.9          3.0           5.1          1.8  Iris-virginica\n",
              "\n",
              "[150 rows x 5 columns]"
            ]
          },
          "metadata": {},
          "execution_count": 3
        }
      ]
    },
    {
      "cell_type": "code",
      "metadata": {
        "colab": {
          "base_uri": "https://localhost:8080/"
        },
        "id": "N2MtB4oPGapM",
        "outputId": "9cc4fef4-2ade-4864-9bbe-db03269979a1"
      },
      "source": [
        "import csv\n",
        "\n",
        "with open('setdata.txt', 'r') as csvfile:\n",
        "  lines = csv.reader(csvfile)\n",
        "  datacsv = dataset.to_csv('csvfile.csv')\n",
        "  for row in lines :\n",
        "      print (', '.join(row))"
      ],
      "execution_count": 4,
      "outputs": [
        {
          "output_type": "stream",
          "name": "stdout",
          "text": [
            "sepal.length, sepal.width, petal.length, petal.width, variety\n",
            "5.1, 3.5, 1.4, 0.2, Iris-setosa\n",
            "4.9, 3.0, 1.4, 0.2, Iris-setosa\n",
            "4.7, 3.2, 1.3, 0.2, Iris-setosa\n",
            "4.6, 3.1, 1.5, 0.2, Iris-setosa\n",
            "5.0, 3.6, 1.4, 0.2, Iris-setosa\n",
            "5.4, 3.9, 1.7, 0.4, Iris-setosa\n",
            "4.6, 3.4, 1.4, 0.3, Iris-setosa\n",
            "5.0, 3.4, 1.5, 0.2, Iris-setosa\n",
            "4.4, 2.9, 1.4, 0.2, Iris-setosa\n",
            "4.9, 3.1, 1.5, 0.1, Iris-setosa\n",
            "5.4, 3.7, 1.5, 0.2, Iris-setosa\n",
            "4.8, 3.4, 1.6, 0.2, Iris-setosa\n",
            "4.8, 3.0, 1.4, 0.1, Iris-setosa\n",
            "4.3, 3.0, 1.1, 0.1, Iris-setosa\n",
            "5.8, 4.0, 1.2, 0.2, Iris-setosa\n",
            "5.7, 4.4, 1.5, 0.4, Iris-setosa\n",
            "5.4, 3.9, 1.3, 0.4, Iris-setosa\n",
            "5.1, 3.5, 1.4, 0.3, Iris-setosa\n",
            "5.7, 3.8, 1.7, 0.3, Iris-setosa\n",
            "5.1, 3.8, 1.5, 0.3, Iris-setosa\n",
            "5.4, 3.4, 1.7, 0.2, Iris-setosa\n",
            "5.1, 3.7, 1.5, 0.4, Iris-setosa\n",
            "4.6, 3.6, 1.0, 0.2, Iris-setosa\n",
            "5.1, 3.3, 1.7, 0.5, Iris-setosa\n",
            "4.8, 3.4, 1.9, 0.2, Iris-setosa\n",
            "5.0, 3.0, 1.6, 0.2, Iris-setosa\n",
            "5.0, 3.4, 1.6, 0.4, Iris-setosa\n",
            "5.2, 3.5, 1.5, 0.2, Iris-setosa\n",
            "5.2, 3.4, 1.4, 0.2, Iris-setosa\n",
            "4.7, 3.2, 1.6, 0.2, Iris-setosa\n",
            "4.8, 3.1, 1.6, 0.2, Iris-setosa\n",
            "5.4, 3.4, 1.5, 0.4, Iris-setosa\n",
            "5.2, 4.1, 1.5, 0.1, Iris-setosa\n",
            "5.5, 4.2, 1.4, 0.2, Iris-setosa\n",
            "4.9, 3.1, 1.5, 0.1, Iris-setosa\n",
            "5.0, 3.2, 1.2, 0.2, Iris-setosa\n",
            "5.5, 3.5, 1.3, 0.2, Iris-setosa\n",
            "4.9, 3.1, 1.5, 0.1, Iris-setosa\n",
            "4.4, 3.0, 1.3, 0.2, Iris-setosa\n",
            "5.1, 3.4, 1.5, 0.2, Iris-setosa\n",
            "5.0, 3.5, 1.3, 0.3, Iris-setosa\n",
            "4.5, 2.3, 1.3, 0.3, Iris-setosa\n",
            "4.4, 3.2, 1.3, 0.2, Iris-setosa\n",
            "5.0, 3.5, 1.6, 0.6, Iris-setosa\n",
            "5.1, 3.8, 1.9, 0.4, Iris-setosa\n",
            "4.8, 3.0, 1.4, 0.3, Iris-setosa\n",
            "5.1, 3.8, 1.6, 0.2, Iris-setosa\n",
            "4.6, 3.2, 1.4, 0.2, Iris-setosa\n",
            "5.3, 3.7, 1.5, 0.2, Iris-setosa\n",
            "5.0, 3.3, 1.4, 0.2, Iris-setosa\n",
            "7.0, 3.2, 4.7, 1.4, Iris-versicolor\n",
            "6.4, 3.2, 4.5, 1.5, Iris-versicolor\n",
            "6.9, 3.1, 4.9, 1.5, Iris-versicolor\n",
            "5.5, 2.3, 4.0, 1.3, Iris-versicolor\n",
            "6.5, 2.8, 4.6, 1.5, Iris-versicolor\n",
            "5.7, 2.8, 4.5, 1.3, Iris-versicolor\n",
            "6.3, 3.3, 4.7, 1.6, Iris-versicolor\n",
            "4.9, 2.4, 3.3, 1.0, Iris-versicolor\n",
            "6.6, 2.9, 4.6, 1.3, Iris-versicolor\n",
            "5.2, 2.7, 3.9, 1.4, Iris-versicolor\n",
            "5.0, 2.0, 3.5, 1.0, Iris-versicolor\n",
            "5.9, 3.0, 4.2, 1.5, Iris-versicolor\n",
            "6.0, 2.2, 4.0, 1.0, Iris-versicolor\n",
            "6.1, 2.9, 4.7, 1.4, Iris-versicolor\n",
            "5.6, 2.9, 3.6, 1.3, Iris-versicolor\n",
            "6.7, 3.1, 4.4, 1.4, Iris-versicolor\n",
            "5.6, 3.0, 4.5, 1.5, Iris-versicolor\n",
            "5.8, 2.7, 4.1, 1.0, Iris-versicolor\n",
            "6.2, 2.2, 4.5, 1.5, Iris-versicolor\n",
            "5.6, 2.5, 3.9, 1.1, Iris-versicolor\n",
            "5.9, 3.2, 4.8, 1.8, Iris-versicolor\n",
            "6.1, 2.8, 4.0, 1.3, Iris-versicolor\n",
            "6.3, 2.5, 4.9, 1.5, Iris-versicolor\n",
            "6.1, 2.8, 4.7, 1.2, Iris-versicolor\n",
            "6.4, 2.9, 4.3, 1.3, Iris-versicolor\n",
            "6.6, 3.0, 4.4, 1.4, Iris-versicolor\n",
            "6.8, 2.8, 4.8, 1.4, Iris-versicolor\n",
            "6.7, 3.0, 5.0, 1.7, Iris-versicolor\n",
            "6.0, 2.9, 4.5, 1.5, Iris-versicolor\n",
            "5.7, 2.6, 3.5, 1.0, Iris-versicolor\n",
            "5.5, 2.4, 3.8, 1.1, Iris-versicolor\n",
            "5.5, 2.4, 3.7, 1.0, Iris-versicolor\n",
            "5.8, 2.7, 3.9, 1.2, Iris-versicolor\n",
            "6.0, 2.7, 5.1, 1.6, Iris-versicolor\n",
            "5.4, 3.0, 4.5, 1.5, Iris-versicolor\n",
            "6.0, 3.4, 4.5, 1.6, Iris-versicolor\n",
            "6.7, 3.1, 4.7, 1.5, Iris-versicolor\n",
            "6.3, 2.3, 4.4, 1.3, Iris-versicolor\n",
            "5.6, 3.0, 4.1, 1.3, Iris-versicolor\n",
            "5.5, 2.5, 4.0, 1.3, Iris-versicolor\n",
            "5.5, 2.6, 4.4, 1.2, Iris-versicolor\n",
            "6.1, 3.0, 4.6, 1.4, Iris-versicolor\n",
            "5.8, 2.6, 4.0, 1.2, Iris-versicolor\n",
            "5.0, 2.3, 3.3, 1.0, Iris-versicolor\n",
            "5.6, 2.7, 4.2, 1.3, Iris-versicolor\n",
            "5.7, 3.0, 4.2, 1.2, Iris-versicolor\n",
            "5.7, 2.9, 4.2, 1.3, Iris-versicolor\n",
            "6.2, 2.9, 4.3, 1.3, Iris-versicolor\n",
            "5.1, 2.5, 3.0, 1.1, Iris-versicolor\n",
            "5.7, 2.8, 4.1, 1.3, Iris-versicolor\n",
            "6.3, 3.3, 6.0, 2.5, Iris-virginica\n",
            "5.8, 2.7, 5.1, 1.9, Iris-virginica\n",
            "7.1, 3.0, 5.9, 2.1, Iris-virginica\n",
            "6.3, 2.9, 5.6, 1.8, Iris-virginica\n",
            "6.5, 3.0, 5.8, 2.2, Iris-virginica\n",
            "7.6, 3.0, 6.6, 2.1, Iris-virginica\n",
            "4.9, 2.5, 4.5, 1.7, Iris-virginica\n",
            "7.3, 2.9, 6.3, 1.8, Iris-virginica\n",
            "6.7, 2.5, 5.8, 1.8, Iris-virginica\n",
            "7.2, 3.6, 6.1, 2.5, Iris-virginica\n",
            "6.5, 3.2, 5.1, 2.0, Iris-virginica\n",
            "6.4, 2.7, 5.3, 1.9, Iris-virginica\n",
            "6.8, 3.0, 5.5, 2.1, Iris-virginica\n",
            "5.7, 2.5, 5.0, 2.0, Iris-virginica\n",
            "5.8, 2.8, 5.1, 2.4, Iris-virginica\n",
            "6.4, 3.2, 5.3, 2.3, Iris-virginica\n",
            "6.5, 3.0, 5.5, 1.8, Iris-virginica\n",
            "7.7, 3.8, 6.7, 2.2, Iris-virginica\n",
            "7.7, 2.6, 6.9, 2.3, Iris-virginica\n",
            "6.0, 2.2, 5.0, 1.5, Iris-virginica\n",
            "6.9, 3.2, 5.7, 2.3, Iris-virginica\n",
            "5.6, 2.8, 4.9, 2.0, Iris-virginica\n",
            "7.7, 2.8, 6.7, 2.0, Iris-virginica\n",
            "6.3, 2.7, 4.9, 1.8, Iris-virginica\n",
            "6.7, 3.3, 5.7, 2.1, Iris-virginica\n",
            "7.2, 3.2, 6.0, 1.8, Iris-virginica\n",
            "6.2, 2.8, 4.8, 1.8, Iris-virginica\n",
            "6.1, 3.0, 4.9, 1.8, Iris-virginica\n",
            "6.4, 2.8, 5.6, 2.1, Iris-virginica\n",
            "7.2, 3.0, 5.8, 1.6, Iris-virginica\n",
            "7.4, 2.8, 6.1, 1.9, Iris-virginica\n",
            "7.9, 3.8, 6.4, 2.0, Iris-virginica\n",
            "6.4, 2.8, 5.6, 2.2, Iris-virginica\n",
            "6.3, 2.8, 5.1, 1.5, Iris-virginica\n",
            "6.1, 2.6, 5.6, 1.4, Iris-virginica\n",
            "7.7, 3.0, 6.1, 2.3, Iris-virginica\n",
            "6.3, 3.4, 5.6, 2.4, Iris-virginica\n",
            "6.4, 3.1, 5.5, 1.8, Iris-virginica\n",
            "6.0, 3.0, 4.8, 1.8, Iris-virginica\n",
            "6.9, 3.1, 5.4, 2.1, Iris-virginica\n",
            "6.7, 3.1, 5.6, 2.4, Iris-virginica\n",
            "6.9, 3.1, 5.1, 2.3, Iris-virginica\n",
            "5.8, 2.7, 5.1, 1.9, Iris-virginica\n",
            "6.8, 3.2, 5.9, 2.3, Iris-virginica\n",
            "6.7, 3.3, 5.7, 2.5, Iris-virginica\n",
            "6.7, 3.0, 5.2, 2.3, Iris-virginica\n",
            "6.3, 2.5, 5.0, 1.9, Iris-virginica\n",
            "6.5, 3.0, 5.2, 2.0, Iris-virginica\n",
            "6.2, 3.4, 5.4, 2.3, Iris-virginica\n",
            "5.9, 3.0, 5.1, 1.8, Iris-virginica\n"
          ]
        }
      ]
    },
    {
      "cell_type": "code",
      "metadata": {
        "colab": {
          "base_uri": "https://localhost:8080/"
        },
        "id": "h3oTJuPpIllK",
        "outputId": "900fb5e7-b27d-435d-9f50-d9f8ea4f558d"
      },
      "source": [
        "data= pand.read_csv('csvfile.csv')\n",
        "data.info()\n"
      ],
      "execution_count": 5,
      "outputs": [
        {
          "output_type": "stream",
          "name": "stdout",
          "text": [
            "<class 'pandas.core.frame.DataFrame'>\n",
            "RangeIndex: 150 entries, 0 to 149\n",
            "Data columns (total 6 columns):\n",
            " #   Column        Non-Null Count  Dtype  \n",
            "---  ------        --------------  -----  \n",
            " 0   Unnamed: 0    150 non-null    int64  \n",
            " 1   sepal.length  150 non-null    float64\n",
            " 2   sepal.width   150 non-null    float64\n",
            " 3   petal.length  150 non-null    float64\n",
            " 4   petal.width   150 non-null    float64\n",
            " 5   variety       150 non-null    object \n",
            "dtypes: float64(4), int64(1), object(1)\n",
            "memory usage: 7.2+ KB\n"
          ]
        }
      ]
    },
    {
      "cell_type": "code",
      "metadata": {
        "id": "KtO20HHCdKho"
      },
      "source": [
        "data['variety'] = data['variety'].map({'Iris-setosa':0,'Iris-versicolor':1,'Iris-virginica':2})"
      ],
      "execution_count": 6,
      "outputs": []
    },
    {
      "cell_type": "code",
      "metadata": {
        "id": "6jYK_6A6eA7Q",
        "colab": {
          "base_uri": "https://localhost:8080/",
          "height": 424
        },
        "outputId": "401b474a-bf85-4fc6-c0ac-5ea5f9202a20"
      },
      "source": [
        "dataset"
      ],
      "execution_count": 7,
      "outputs": [
        {
          "output_type": "execute_result",
          "data": {
            "text/html": [
              "<div>\n",
              "<style scoped>\n",
              "    .dataframe tbody tr th:only-of-type {\n",
              "        vertical-align: middle;\n",
              "    }\n",
              "\n",
              "    .dataframe tbody tr th {\n",
              "        vertical-align: top;\n",
              "    }\n",
              "\n",
              "    .dataframe thead th {\n",
              "        text-align: right;\n",
              "    }\n",
              "</style>\n",
              "<table border=\"1\" class=\"dataframe\">\n",
              "  <thead>\n",
              "    <tr style=\"text-align: right;\">\n",
              "      <th></th>\n",
              "      <th>sepal.length</th>\n",
              "      <th>sepal.width</th>\n",
              "      <th>petal.length</th>\n",
              "      <th>petal.width</th>\n",
              "      <th>variety</th>\n",
              "    </tr>\n",
              "  </thead>\n",
              "  <tbody>\n",
              "    <tr>\n",
              "      <th>0</th>\n",
              "      <td>5.1</td>\n",
              "      <td>3.5</td>\n",
              "      <td>1.4</td>\n",
              "      <td>0.2</td>\n",
              "      <td>Iris-setosa</td>\n",
              "    </tr>\n",
              "    <tr>\n",
              "      <th>1</th>\n",
              "      <td>4.9</td>\n",
              "      <td>3.0</td>\n",
              "      <td>1.4</td>\n",
              "      <td>0.2</td>\n",
              "      <td>Iris-setosa</td>\n",
              "    </tr>\n",
              "    <tr>\n",
              "      <th>2</th>\n",
              "      <td>4.7</td>\n",
              "      <td>3.2</td>\n",
              "      <td>1.3</td>\n",
              "      <td>0.2</td>\n",
              "      <td>Iris-setosa</td>\n",
              "    </tr>\n",
              "    <tr>\n",
              "      <th>3</th>\n",
              "      <td>4.6</td>\n",
              "      <td>3.1</td>\n",
              "      <td>1.5</td>\n",
              "      <td>0.2</td>\n",
              "      <td>Iris-setosa</td>\n",
              "    </tr>\n",
              "    <tr>\n",
              "      <th>4</th>\n",
              "      <td>5.0</td>\n",
              "      <td>3.6</td>\n",
              "      <td>1.4</td>\n",
              "      <td>0.2</td>\n",
              "      <td>Iris-setosa</td>\n",
              "    </tr>\n",
              "    <tr>\n",
              "      <th>...</th>\n",
              "      <td>...</td>\n",
              "      <td>...</td>\n",
              "      <td>...</td>\n",
              "      <td>...</td>\n",
              "      <td>...</td>\n",
              "    </tr>\n",
              "    <tr>\n",
              "      <th>145</th>\n",
              "      <td>6.7</td>\n",
              "      <td>3.0</td>\n",
              "      <td>5.2</td>\n",
              "      <td>2.3</td>\n",
              "      <td>Iris-virginica</td>\n",
              "    </tr>\n",
              "    <tr>\n",
              "      <th>146</th>\n",
              "      <td>6.3</td>\n",
              "      <td>2.5</td>\n",
              "      <td>5.0</td>\n",
              "      <td>1.9</td>\n",
              "      <td>Iris-virginica</td>\n",
              "    </tr>\n",
              "    <tr>\n",
              "      <th>147</th>\n",
              "      <td>6.5</td>\n",
              "      <td>3.0</td>\n",
              "      <td>5.2</td>\n",
              "      <td>2.0</td>\n",
              "      <td>Iris-virginica</td>\n",
              "    </tr>\n",
              "    <tr>\n",
              "      <th>148</th>\n",
              "      <td>6.2</td>\n",
              "      <td>3.4</td>\n",
              "      <td>5.4</td>\n",
              "      <td>2.3</td>\n",
              "      <td>Iris-virginica</td>\n",
              "    </tr>\n",
              "    <tr>\n",
              "      <th>149</th>\n",
              "      <td>5.9</td>\n",
              "      <td>3.0</td>\n",
              "      <td>5.1</td>\n",
              "      <td>1.8</td>\n",
              "      <td>Iris-virginica</td>\n",
              "    </tr>\n",
              "  </tbody>\n",
              "</table>\n",
              "<p>150 rows × 5 columns</p>\n",
              "</div>"
            ],
            "text/plain": [
              "     sepal.length  sepal.width  petal.length  petal.width         variety\n",
              "0             5.1          3.5           1.4          0.2     Iris-setosa\n",
              "1             4.9          3.0           1.4          0.2     Iris-setosa\n",
              "2             4.7          3.2           1.3          0.2     Iris-setosa\n",
              "3             4.6          3.1           1.5          0.2     Iris-setosa\n",
              "4             5.0          3.6           1.4          0.2     Iris-setosa\n",
              "..            ...          ...           ...          ...             ...\n",
              "145           6.7          3.0           5.2          2.3  Iris-virginica\n",
              "146           6.3          2.5           5.0          1.9  Iris-virginica\n",
              "147           6.5          3.0           5.2          2.0  Iris-virginica\n",
              "148           6.2          3.4           5.4          2.3  Iris-virginica\n",
              "149           5.9          3.0           5.1          1.8  Iris-virginica\n",
              "\n",
              "[150 rows x 5 columns]"
            ]
          },
          "metadata": {},
          "execution_count": 7
        }
      ]
    },
    {
      "cell_type": "code",
      "metadata": {
        "id": "53X1qf41eP-d",
        "colab": {
          "base_uri": "https://localhost:8080/"
        },
        "outputId": "5fb11e13-5bdc-4342-eab6-c8d38a39d43e"
      },
      "source": [
        "from sklearn.preprocessing import StandardScaler\n",
        "scaler=StandardScaler()\n",
        "\n",
        "x=data[['sepal.length','sepal.width','petal.length','petal.width']].values\n",
        "y=data['variety'].values\n",
        "data.shape"
      ],
      "execution_count": 8,
      "outputs": [
        {
          "output_type": "execute_result",
          "data": {
            "text/plain": [
              "(150, 6)"
            ]
          },
          "metadata": {},
          "execution_count": 8
        }
      ]
    },
    {
      "cell_type": "code",
      "metadata": {
        "id": "dx-xFQyFi6_7",
        "colab": {
          "base_uri": "https://localhost:8080/"
        },
        "outputId": "b8c9465b-e81e-40c2-f306-a390d75d2d59"
      },
      "source": [
        "from sklearn.model_selection import train_test_split\n",
        "from sklearn.neighbors import KNeighborsClassifier\n",
        "from sklearn.metrics import accuracy_score\n",
        "\n",
        "x_train,x_test,y_train,y_test=train_test_split(x,y,test_size=0.2,random_state=30)\n",
        "\n",
        "knn = KNeighborsClassifier(n_neighbors=20, metric='euclidean')\n",
        "\n",
        "knn.fit(x_train,y_train) \n",
        "y_pred=knn.predict(x_test) \n",
        "print('Acuuracy=',accuracy_score(y_pred,y_test))\n",
        "scores= accuracy_score(y_pred,y_test)\n",
        "\n",
        "\n"
      ],
      "execution_count": 9,
      "outputs": [
        {
          "output_type": "stream",
          "name": "stdout",
          "text": [
            "Acuuracy= 0.9666666666666667\n"
          ]
        }
      ]
    },
    {
      "cell_type": "code",
      "metadata": {
        "id": "L9-rHv25Fkc7",
        "colab": {
          "base_uri": "https://localhost:8080/"
        },
        "outputId": "4f99935a-6f0a-4e21-ef53-94b06f2bf48a"
      },
      "source": [
        "print(y_pred)"
      ],
      "execution_count": 10,
      "outputs": [
        {
          "output_type": "stream",
          "name": "stdout",
          "text": [
            "[0 0 0 2 1 1 2 2 1 2 0 2 1 1 0 1 0 0 0 1 1 0 0 0 2 2 1 2 0 1]\n"
          ]
        }
      ]
    },
    {
      "cell_type": "code",
      "metadata": {
        "id": "ZNaRUis5FsjJ",
        "colab": {
          "base_uri": "https://localhost:8080/"
        },
        "outputId": "f16fc526-5b64-4cf4-e977-c00076d86266"
      },
      "source": [
        "print(y_test)"
      ],
      "execution_count": 11,
      "outputs": [
        {
          "output_type": "stream",
          "name": "stdout",
          "text": [
            "[0 0 0 2 1 1 2 2 1 2 0 2 1 1 0 1 0 0 0 1 2 0 0 0 2 2 1 2 0 1]\n"
          ]
        }
      ]
    },
    {
      "cell_type": "code",
      "metadata": {
        "id": "0bDfkPzmDKHx",
        "colab": {
          "base_uri": "https://localhost:8080/",
          "height": 53
        },
        "outputId": "3664bedc-e78c-42ab-b9c4-06001e3e631f"
      },
      "source": [
        "\"\"\"import matplotlib.pyplot as plt\n",
        "\n",
        "plt.plot(range(1,26),accuracy_score(y_pred,y_test))\n",
        "plt.xlabel('Value K for KNN')\n",
        "plt.ylabel('Testing Accuracy')\"\"\""
      ],
      "execution_count": 12,
      "outputs": [
        {
          "output_type": "execute_result",
          "data": {
            "application/vnd.google.colaboratory.intrinsic+json": {
              "type": "string"
            },
            "text/plain": [
              "\"import matplotlib.pyplot as plt\\n\\nplt.plot(range(1,26),accuracy_score(y_pred,y_test))\\nplt.xlabel('Value K for KNN')\\nplt.ylabel('Testing Accuracy')\""
            ]
          },
          "metadata": {},
          "execution_count": 12
        }
      ]
    },
    {
      "cell_type": "code",
      "metadata": {
        "colab": {
          "base_uri": "https://localhost:8080/"
        },
        "id": "Q1ii8mUbNBoY",
        "outputId": "3b4ac6d5-1fbc-42c2-d76a-739578bfc263"
      },
      "source": [
        "import math\n",
        "data1 = [2, 2, 2]\n",
        "data2 = [4, 4, 4]\n",
        "def euclideanDistance(instance1, instance2, length):\n",
        "  #distance1 =math.pow(instance1[0]-instance2[0],2) + math.pow(instance1[1]-instance2[1],2) +math.pow(instance1[2]-instance2[2],2)\n",
        "  distance=0\n",
        "  for i in range(len(instance1)):\n",
        "    distance += math.pow(instance1[i]-instance2[i],2)\n",
        "  \n",
        "  return math.sqrt(distance)\n",
        "\n",
        "\n",
        "euclideanDistance(data1,data2,3)"
      ],
      "execution_count": 13,
      "outputs": [
        {
          "output_type": "execute_result",
          "data": {
            "text/plain": [
              "3.4641016151377544"
            ]
          },
          "metadata": {},
          "execution_count": 13
        }
      ]
    },
    {
      "cell_type": "code",
      "metadata": {
        "colab": {
          "base_uri": "https://localhost:8080/"
        },
        "id": "sn69XmUvrLAO",
        "outputId": "37a2b1b3-1b2c-4228-914b-6791dbd8beb6"
      },
      "source": [
        "import numpy as np\n",
        "a = np.array(data1)\n",
        "b = np.array(data2)\n",
        "dist = np.sqrt(np.sum(np.square(a-b)))\n",
        "dist"
      ],
      "execution_count": 14,
      "outputs": [
        {
          "output_type": "execute_result",
          "data": {
            "text/plain": [
              "3.4641016151377544"
            ]
          },
          "metadata": {},
          "execution_count": 14
        }
      ]
    },
    {
      "cell_type": "code",
      "metadata": {
        "colab": {
          "base_uri": "https://localhost:8080/"
        },
        "id": "z0oG6tzKTf0_",
        "outputId": "246c6c1c-3a2a-4768-d164-69b74aab390c"
      },
      "source": [
        "import operator\n",
        "def getNeighbors(trainingSet, testInstance, k):\n",
        "\n",
        "  distances =[]\n",
        "  length = len(testInstance)-1\n",
        "\n",
        "  for x in range(len(trainingSet)):\n",
        "    dist = euclideanDistance(testInstance, trainingSet[x], length)\n",
        "    distances.append((trainingSet[x], dist))\n",
        "    distances.sort(key=operator.itemgetter(1))\n",
        "    neighbors = []\n",
        "  for x in range(k):\n",
        "    neighbors.append(distances[x][0])\n",
        "  return neighbors\n",
        "\n",
        "trainSet = [[2, 2, 2, 'a'], [4, 4, 4, 'b']]\n",
        "testInstance = [5, 5, 5]\n",
        "k = 1\n",
        "neighbors = getNeighbors(trainSet, testInstance, 1)\n",
        "\n",
        "print(neighbors)"
      ],
      "execution_count": 15,
      "outputs": [
        {
          "output_type": "stream",
          "name": "stdout",
          "text": [
            "[[4, 4, 4, 'b']]\n"
          ]
        }
      ]
    },
    {
      "cell_type": "code",
      "metadata": {
        "colab": {
          "base_uri": "https://localhost:8080/"
        },
        "id": "JuzubsYuCyqA",
        "outputId": "34d7aa50-9532-4882-d6cf-02dd64cf1bda"
      },
      "source": [
        "import operator\n",
        "def getResponse(neighbors):\n",
        "  classVotes = {}\n",
        "  sortedVotes=[]\n",
        "  for x in range(len(neighbors)):\n",
        "    for i in range(len(neighbors)):\n",
        "      response = neighbors[x][-1] \n",
        "     \n",
        "    if response in classVotes:\n",
        "      classVotes[response] +=1\n",
        "    else:\n",
        "      classVotes[response] =1  \n",
        "      sortedVotes = sorted(classVotes.items(), key=operator.itemgetter(1), reverse=True)\n",
        "      print(sortedVotes)\n",
        "  return sortedVotes\n",
        "neighbors = [[1,1,1,'a'], [2,2,2,'a'], [3,3,3,'b']]\n",
        "response = getResponse(neighbors)\n",
        "print(response)"
      ],
      "execution_count": 16,
      "outputs": [
        {
          "output_type": "stream",
          "name": "stdout",
          "text": [
            "[('a', 1)]\n",
            "[('a', 2), ('b', 1)]\n",
            "[('a', 2), ('b', 1)]\n"
          ]
        }
      ]
    },
    {
      "cell_type": "markdown",
      "metadata": {
        "id": "MDLbA467LVR7"
      },
      "source": [
        "# 5.def getAccuracy(testSet, predictions):"
      ]
    },
    {
      "cell_type": "code",
      "metadata": {
        "id": "vdOenUOfLUdc"
      },
      "source": [
        "def getAccuracy(testSet, predictions):\n",
        "  correct =0\n",
        "  predictions= predictions\n",
        "  for x in range(len(testSet)):\n",
        "    if(testSet[x][-1] is predictions[x]):\n",
        "      correct +=1\n",
        "  return (correct/float(len(testSet))) * 100.0"
      ],
      "execution_count": 17,
      "outputs": []
    },
    {
      "cell_type": "code",
      "metadata": {
        "colab": {
          "base_uri": "https://localhost:8080/"
        },
        "id": "QqIXfqbNOVgJ",
        "outputId": "6b55d56e-0081-46a2-8ea5-871aaae3a746"
      },
      "source": [
        "testSet = [[1,1,1,'a'], [2,2,2,'a'], [3,3,3,'b']]\n",
        "predictions = ['a', 'a', 'a']\n",
        "accuracy = getAccuracy(testSet, predictions)\n",
        "print(accuracy)"
      ],
      "execution_count": 18,
      "outputs": [
        {
          "output_type": "stream",
          "name": "stdout",
          "text": [
            "66.66666666666666\n"
          ]
        }
      ]
    },
    {
      "cell_type": "markdown",
      "metadata": {
        "id": "7PtvyBnoa-Cn"
      },
      "source": [
        "# 6. Main program"
      ]
    },
    {
      "cell_type": "code",
      "metadata": {
        "id": "0WX8B27qZNzm",
        "colab": {
          "base_uri": "https://localhost:8080/",
          "height": 415
        },
        "outputId": "5800774c-fa53-40b5-b7fa-39ab98b8c38d"
      },
      "source": [
        "import csv\n",
        "import random\n",
        "import operator\n",
        "import math\n",
        "\n",
        "\n",
        "\n",
        "\n",
        "def loadDataset(filename,split,trainingSet=[],testSet=[]):\n",
        "  with open(filename,'r') as csvfile:\n",
        "    lines= csv.reader(csvfile)\n",
        "    dataset= list(lines)\n",
        "    for x in range(1,len(dataset)):\n",
        "      for y in range(4):\n",
        "        dataset[x][y] = float(dataset[x][y])\n",
        "      if random.random() <split :\n",
        "        trainingSet.append(dataset[x])  \n",
        "      else :\n",
        "        testSet.append(dataset[x]) \n",
        " \n",
        "def euclidienneDistance(array1,array2,length):\n",
        "  distance =0\n",
        "  for x in range(length):\n",
        "    distance +=math.pow(array1[x]-array2[x],2)\n",
        "  return math.sqrt(distance)\n",
        "\n",
        "def getNeighbors(trainingSet, testInstance, k):\n",
        "\tdistances = []\n",
        "\tlength = len(testInstance)-1\n",
        "\tfor x in range(len(trainingSet)):\n",
        "\t\tdist = euclidienneDistance(testInstance,trainingSet[x],length)\n",
        "\t\tdistances.append((trainingSet[x], dist))\n",
        "\tdistances.sort(key=operator.itemgetter(1))\n",
        "\tneighbors = []\n",
        "\tfor x in range(k):\n",
        "\t\tneighbors.append(distances[x][0])\n",
        "\treturn neighbors\n",
        "\n",
        "def getResponse(neighbors):\n",
        "  classVotes={}\n",
        "  for x in range(len(neighbors)):\n",
        "    response = neighbors[x][-1]\n",
        "    if response in classVotes:\n",
        "      classVotes[response] +=1\n",
        "    else:\n",
        "      classVotes[response] =1\n",
        "  sortedVotes = sorted(classVotes.iteritems(), key=operator.itemgetter(1), reverse=True)\n",
        "  return sortedVotes[0][0]\n",
        "\n",
        "def getAccuracy(testSet,predictions):\n",
        "  correct = 0\n",
        "  for x in range(len(testSet)):\n",
        "    if(testSet[x][-1] == predictions[x]):\n",
        "      correct +=1\n",
        "  return(correct/float(len(testSet)))*100.0       \n",
        "\n",
        "def main():\n",
        "  trainingSet=[]\n",
        "  testSet=[]\n",
        "  split = 0.67\n",
        "  loadDataset('setdata.txt',split,trainingSet,testSet)\n",
        "  print('train Set:'+repr(len(trainingSet)))\n",
        "  print('train Set:'+repr(len(testSet)))\n",
        "  predictions=[]\n",
        "  k=3\n",
        "  for x in range(len(testSet)):\n",
        "    neighbors = getNeighbors(trainingSet,testSet[x],k)\n",
        "    result = getResponse(neighbors)\n",
        "    predictions.append(result)\n",
        "    print('> predicted=' + repr(result) + ', actual=' + repr(testSet[x][-1]))\n",
        "    accuracy = getAccuracy(testSet,predictions)\n",
        "    print('Accuracy: %.2f' %(accuracy)+'%')\n",
        "   \n",
        "main()\n",
        "  \n",
        "     \n"
      ],
      "execution_count": 44,
      "outputs": [
        {
          "output_type": "stream",
          "name": "stdout",
          "text": [
            "train Set:108\n",
            "train Set:42\n"
          ]
        },
        {
          "output_type": "error",
          "ename": "AttributeError",
          "evalue": "ignored",
          "traceback": [
            "\u001b[0;31m---------------------------------------------------------------------------\u001b[0m",
            "\u001b[0;31mAttributeError\u001b[0m                            Traceback (most recent call last)",
            "\u001b[0;32m<ipython-input-44-a960eb51b2e7>\u001b[0m in \u001b[0;36m<module>\u001b[0;34m()\u001b[0m\n\u001b[1;32m     72\u001b[0m     \u001b[0mprint\u001b[0m\u001b[0;34m(\u001b[0m\u001b[0;34m'Accuracy: %.2f'\u001b[0m \u001b[0;34m%\u001b[0m\u001b[0;34m(\u001b[0m\u001b[0maccuracy\u001b[0m\u001b[0;34m)\u001b[0m\u001b[0;34m+\u001b[0m\u001b[0;34m'%'\u001b[0m\u001b[0;34m)\u001b[0m\u001b[0;34m\u001b[0m\u001b[0;34m\u001b[0m\u001b[0m\n\u001b[1;32m     73\u001b[0m \u001b[0;34m\u001b[0m\u001b[0m\n\u001b[0;32m---> 74\u001b[0;31m \u001b[0mmain\u001b[0m\u001b[0;34m(\u001b[0m\u001b[0;34m)\u001b[0m\u001b[0;34m\u001b[0m\u001b[0;34m\u001b[0m\u001b[0m\n\u001b[0m\u001b[1;32m     75\u001b[0m \u001b[0;34m\u001b[0m\u001b[0m\n\u001b[1;32m     76\u001b[0m \u001b[0;34m\u001b[0m\u001b[0m\n",
            "\u001b[0;32m<ipython-input-44-a960eb51b2e7>\u001b[0m in \u001b[0;36mmain\u001b[0;34m()\u001b[0m\n\u001b[1;32m     66\u001b[0m   \u001b[0;32mfor\u001b[0m \u001b[0mx\u001b[0m \u001b[0;32min\u001b[0m \u001b[0mrange\u001b[0m\u001b[0;34m(\u001b[0m\u001b[0mlen\u001b[0m\u001b[0;34m(\u001b[0m\u001b[0mtestSet\u001b[0m\u001b[0;34m)\u001b[0m\u001b[0;34m)\u001b[0m\u001b[0;34m:\u001b[0m\u001b[0;34m\u001b[0m\u001b[0;34m\u001b[0m\u001b[0m\n\u001b[1;32m     67\u001b[0m     \u001b[0mneighbors\u001b[0m \u001b[0;34m=\u001b[0m \u001b[0mgetNeighbors\u001b[0m\u001b[0;34m(\u001b[0m\u001b[0mtrainingSet\u001b[0m\u001b[0;34m,\u001b[0m\u001b[0mtestSet\u001b[0m\u001b[0;34m[\u001b[0m\u001b[0mx\u001b[0m\u001b[0;34m]\u001b[0m\u001b[0;34m,\u001b[0m\u001b[0mk\u001b[0m\u001b[0;34m)\u001b[0m\u001b[0;34m\u001b[0m\u001b[0;34m\u001b[0m\u001b[0m\n\u001b[0;32m---> 68\u001b[0;31m     \u001b[0mresult\u001b[0m \u001b[0;34m=\u001b[0m \u001b[0mgetResponse\u001b[0m\u001b[0;34m(\u001b[0m\u001b[0mneighbors\u001b[0m\u001b[0;34m)\u001b[0m\u001b[0;34m\u001b[0m\u001b[0;34m\u001b[0m\u001b[0m\n\u001b[0m\u001b[1;32m     69\u001b[0m     \u001b[0mpredictions\u001b[0m\u001b[0;34m.\u001b[0m\u001b[0mappend\u001b[0m\u001b[0;34m(\u001b[0m\u001b[0mresult\u001b[0m\u001b[0;34m)\u001b[0m\u001b[0;34m\u001b[0m\u001b[0;34m\u001b[0m\u001b[0m\n\u001b[1;32m     70\u001b[0m     \u001b[0mprint\u001b[0m\u001b[0;34m(\u001b[0m\u001b[0;34m'> predicted='\u001b[0m \u001b[0;34m+\u001b[0m \u001b[0mrepr\u001b[0m\u001b[0;34m(\u001b[0m\u001b[0mresult\u001b[0m\u001b[0;34m)\u001b[0m \u001b[0;34m+\u001b[0m \u001b[0;34m', actual='\u001b[0m \u001b[0;34m+\u001b[0m \u001b[0mrepr\u001b[0m\u001b[0;34m(\u001b[0m\u001b[0mtestSet\u001b[0m\u001b[0;34m[\u001b[0m\u001b[0mx\u001b[0m\u001b[0;34m]\u001b[0m\u001b[0;34m[\u001b[0m\u001b[0;34m-\u001b[0m\u001b[0;36m1\u001b[0m\u001b[0;34m]\u001b[0m\u001b[0;34m)\u001b[0m\u001b[0;34m)\u001b[0m\u001b[0;34m\u001b[0m\u001b[0;34m\u001b[0m\u001b[0m\n",
            "\u001b[0;32m<ipython-input-44-a960eb51b2e7>\u001b[0m in \u001b[0;36mgetResponse\u001b[0;34m(neighbors)\u001b[0m\n\u001b[1;32m     45\u001b[0m     \u001b[0;32melse\u001b[0m\u001b[0;34m:\u001b[0m\u001b[0;34m\u001b[0m\u001b[0;34m\u001b[0m\u001b[0m\n\u001b[1;32m     46\u001b[0m       \u001b[0mclassVotes\u001b[0m\u001b[0;34m[\u001b[0m\u001b[0mresponse\u001b[0m\u001b[0;34m]\u001b[0m \u001b[0;34m=\u001b[0m\u001b[0;36m1\u001b[0m\u001b[0;34m\u001b[0m\u001b[0;34m\u001b[0m\u001b[0m\n\u001b[0;32m---> 47\u001b[0;31m   \u001b[0msortedVotes\u001b[0m \u001b[0;34m=\u001b[0m \u001b[0msorted\u001b[0m\u001b[0;34m(\u001b[0m\u001b[0mclassVotes\u001b[0m\u001b[0;34m.\u001b[0m\u001b[0miteritems\u001b[0m\u001b[0;34m(\u001b[0m\u001b[0;34m)\u001b[0m\u001b[0;34m,\u001b[0m \u001b[0mkey\u001b[0m\u001b[0;34m=\u001b[0m\u001b[0moperator\u001b[0m\u001b[0;34m.\u001b[0m\u001b[0mitemgetter\u001b[0m\u001b[0;34m(\u001b[0m\u001b[0;36m1\u001b[0m\u001b[0;34m)\u001b[0m\u001b[0;34m,\u001b[0m \u001b[0mreverse\u001b[0m\u001b[0;34m=\u001b[0m\u001b[0;32mTrue\u001b[0m\u001b[0;34m)\u001b[0m\u001b[0;34m\u001b[0m\u001b[0;34m\u001b[0m\u001b[0m\n\u001b[0m\u001b[1;32m     48\u001b[0m   \u001b[0;32mreturn\u001b[0m \u001b[0msortedVotes\u001b[0m\u001b[0;34m[\u001b[0m\u001b[0;36m0\u001b[0m\u001b[0;34m]\u001b[0m\u001b[0;34m[\u001b[0m\u001b[0;36m0\u001b[0m\u001b[0;34m]\u001b[0m\u001b[0;34m\u001b[0m\u001b[0;34m\u001b[0m\u001b[0m\n\u001b[1;32m     49\u001b[0m \u001b[0;34m\u001b[0m\u001b[0m\n",
            "\u001b[0;31mAttributeError\u001b[0m: 'dict' object has no attribute 'iteritems'"
          ]
        }
      ]
    }
  ]
}